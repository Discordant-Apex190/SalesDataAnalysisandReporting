{
 "cells": [
  {
   "cell_type": "markdown",
   "id": "c5d7e5a6-7039-4a47-ac0e-e5ae11011766",
   "metadata": {},
   "source": [
    "# Exploratory Data Analysis for Sales Data\n",
    "\n",
    "## Exploring the Data\n",
    "\n",
    "### Summary Statistics\n",
    "\n",
    "#### Certain data field(Add more)\n",
    "\n",
    "- Mean\n",
    "- Median\n",
    "- Mode\n",
    "- Standard Deviation\n",
    "\n",
    "### Data Visualization\n",
    "\n",
    "### Correlation Testing(Hypothesis testing, T-testing, F-testing)"
   ]
  },
  {
   "cell_type": "code",
   "execution_count": null,
   "id": "c1752d0f-7816-46b7-a194-f30225a06190",
   "metadata": {},
   "outputs": [],
   "source": []
  }
 ],
 "metadata": {
  "kernelspec": {
   "display_name": "Python 3 (ipykernel)",
   "language": "python",
   "name": "python3"
  },
  "language_info": {
   "codemirror_mode": {
    "name": "ipython",
    "version": 3
   },
   "file_extension": ".py",
   "mimetype": "text/x-python",
   "name": "python",
   "nbconvert_exporter": "python",
   "pygments_lexer": "ipython3",
   "version": "3.11.4"
  }
 },
 "nbformat": 4,
 "nbformat_minor": 5
}
