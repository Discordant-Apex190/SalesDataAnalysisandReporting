{
 "cells": [
  {
   "cell_type": "markdown",
   "id": "356d4602-6d73-4ae6-8693-fe28e741a030",
   "metadata": {
    "tags": []
   },
   "source": [
    "# Exploratory Data Analysis for Sales Data\n",
    "***"
   ]
  },
  {
   "cell_type": "markdown",
   "id": "d855942d-d72b-433b-9502-b2dbd9e4dce9",
   "metadata": {},
   "source": [
    "## Hypothesis Testing(t-test)\n",
    "\n",
    "**Null Hypothesis (H0):** There is no effect between the price of each item (priceeach) and total sales (sales).\n",
    "\n",
    "H0: β1 = 0\n",
    "\n",
    "The null hypothesis asserts that the coefficient (β1) for `priceeach` in the regression equation is equal to zero, which means that there is no significant relationship between the price of each item and sales.\n",
    "\n",
    "**Alternative Hypothesis (H1):** There is a significant effect between the price of each item (priceeach) and total sales (sales).\n",
    "\n",
    "H1: β1 ≠ 0\n",
    "\n",
    "The alternative hypothesis claims that the coefficient (β1) for `priceeach` in the regression equation is not equal to zero, indicating that there is a significant effect of the price of each item on sales. This is typically what you are trying to establish in your analysis.\n"
   ]
  },
  {
   "cell_type": "markdown",
   "id": "c8ef5d88-d8ba-471f-b959-08680c583285",
   "metadata": {},
   "source": [
    "#### The simple linear regression model for predicting sales is given by the equation:\n",
    "\n",
    "$\\text{sales} = b_0 + b_1 \\text{priceeach} $\n",
    "\n",
    "Where:\n",
    "- \\$\\text{sales}\\$ represents the predicted or estimated value of the sales.\n",
    "- \\$b_0\\$ is the y-intercept, which is the estimated value of $\\text{sales}$ when $\\text{priceeach}\\$ is 0.\n",
    "- \\$b_1\\$ is the slope coefficient, which represents how sales change with a one-unit change in \\$\\text{priceeach}\\$.\n",
    "- \\$\\text{priceeach}\\$ is the independent variable or predictor variable representing the price for each unit.\n",
    "\n",
    "#### The formula to calculate the slope coefficient $b_1$ in simple linear regression is as follows:\n",
    "### $b_1 = \\frac{\\sum_{i=1}^{n} (x_i - \\bar{x})(y_i - \\bar{y})}{\\sum_{i=1}^{n}(x_i - \\bar{x})^2}$\n",
    "***\n",
    "#### The formula for calculating the y-intercept $b_0$ in simple linear regression is as follows:\n",
    "### $b_0 = \\bar{y} - b_1\\bar{x}$"
   ]
  },
  {
   "cell_type": "markdown",
   "id": "85dd0cc6-3959-40ec-b234-aa297fa11ba1",
   "metadata": {},
   "source": [
    "## Summary Statistics for priceeach(sum, mean)"
   ]
  },
  {
   "cell_type": "code",
   "execution_count": 10,
   "id": "d44c6744-ab25-4ff0-b273-402a810429bc",
   "metadata": {
    "tags": []
   },
   "outputs": [
    {
     "name": "stdin",
     "output_type": "stream",
     "text": [
      "Enter the query you would like to run:  SELECT * FROM sales\n"
     ]
    },
    {
     "name": "stdout",
     "output_type": "stream",
     "text": [
      "Summary Statistics for priceeach:\n",
      "Mean: 94\n",
      "Sum: 18663.55\n"
     ]
    }
   ],
   "source": [
    "import numpy as np\n",
    "import json\n",
    "import pandas as pd\n",
    "from sales_data_extractor import DatabaseConnector\n",
    "\n",
    "def calculate_summary_stats(data):\n",
    "    summary_stats = {\n",
    "        \"Mean\": round(np.mean(data)),\n",
    "        \"Sum\": np.sum(data),\n",
    "    }\n",
    "    return summary_stats\n",
    "\n",
    "if __name__ == \"__main__\":\n",
    "\n",
    "    db_connector = DatabaseConnector('config.json')\n",
    "\n",
    "    user_query = str(input(\"Enter the query you would like to run: \"))\n",
    "\n",
    "    \n",
    "    query_results = db_connector.execute_query(user_query)\n",
    "\n",
    "    \n",
    "    results, column_names = query_results\n",
    "\n",
    "    \n",
    "    df = pd.DataFrame(results, columns=column_names)\n",
    "\n",
    "    # Calculate summary statistics for a specific column\n",
    "    column_to_analyze = 'priceeach'\n",
    "    if column_to_analyze in df.columns:\n",
    "        data_to_analyze = df[column_to_analyze]\n",
    "        summary_stats = calculate_summary_stats(data_to_analyze)\n",
    "        print(f\"Summary Statistics for {column_to_analyze}:\")\n",
    "        for stat, value in summary_stats.items():\n",
    "            print(f\"{stat}: {value}\")\n",
    "    else:\n",
    "        print(f\"Column '{column_to_analyze}' not found in the DataFrame.\")\n",
    "\n",
    "    db_connector.close_connection()\n"
   ]
  },
  {
   "cell_type": "markdown",
   "id": "4993cc05-73b0-4498-954a-78c60936c8ad",
   "metadata": {},
   "source": [
    "## Summary Statistics for sales(sum, mean)"
   ]
  },
  {
   "cell_type": "code",
   "execution_count": 11,
   "id": "61826f72-ffee-485b-8b9c-37b3d285f4e9",
   "metadata": {
    "tags": []
   },
   "outputs": [
    {
     "name": "stdin",
     "output_type": "stream",
     "text": [
      "Enter the query you would like to run:  SELECT * FROM sales\n"
     ]
    },
    {
     "name": "stdout",
     "output_type": "stream",
     "text": [
      "Summary Statistics for sales:\n",
      "Mean: 4623\n",
      "Sum: 915408\n"
     ]
    }
   ],
   "source": [
    "import numpy as np\n",
    "import json\n",
    "import pandas as pd\n",
    "from sales_data_extractor import DatabaseConnector\n",
    "\n",
    "def calculate_summary_stats(data):\n",
    "    summary_stats = {\n",
    "        \"Mean\": round(np.mean(data)),\n",
    "        \"Sum\": np.sum(data),\n",
    "    }\n",
    "    return summary_stats\n",
    "\n",
    "if __name__ == \"__main__\":\n",
    "\n",
    "    db_connector = DatabaseConnector('config.json')\n",
    "\n",
    "    user_query = str(input(\"Enter the query you would like to run: \"))\n",
    "\n",
    "    \n",
    "    query_results = db_connector.execute_query(user_query)\n",
    "\n",
    "    \n",
    "    results, column_names = query_results\n",
    "\n",
    "    \n",
    "    df = pd.DataFrame(results, columns=column_names)\n",
    "\n",
    "    # Calculate summary statistics for a specific column\n",
    "    column_to_analyze = 'sales'\n",
    "    if column_to_analyze in df.columns:\n",
    "        data_to_analyze = df[column_to_analyze]\n",
    "        summary_stats = calculate_summary_stats(data_to_analyze)\n",
    "        print(f\"Summary Statistics for {column_to_analyze}:\")\n",
    "        for stat, value in summary_stats.items():\n",
    "            print(f\"{stat}: {value}\")\n",
    "    else:\n",
    "        print(f\"Column '{column_to_analyze}' not found in the DataFrame.\")\n",
    "\n",
    "    db_connector.close_connection()\n"
   ]
  },
  {
   "cell_type": "markdown",
   "id": "5a4efad9-fd2e-446b-9706-001cf959f800",
   "metadata": {
    "tags": []
   },
   "source": []
  }
 ],
 "metadata": {
  "kernelspec": {
   "display_name": "Python 3 (ipykernel)",
   "language": "python",
   "name": "python3"
  },
  "language_info": {
   "codemirror_mode": {
    "name": "ipython",
    "version": 3
   },
   "file_extension": ".py",
   "mimetype": "text/x-python",
   "name": "python",
   "nbconvert_exporter": "python",
   "pygments_lexer": "ipython3",
   "version": "3.11.4"
  }
 },
 "nbformat": 4,
 "nbformat_minor": 5
}
